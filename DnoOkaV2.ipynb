{
  "nbformat": 4,
  "nbformat_minor": 0,
  "metadata": {
    "colab": {
      "provenance": [],
      "authorship_tag": "ABX9TyP+hvgv2Z/v0R8Zn7mvu6aA",
      "include_colab_link": true
    },
    "kernelspec": {
      "name": "python3",
      "display_name": "Python 3"
    },
    "language_info": {
      "name": "python"
    }
  },
  "cells": [
    {
      "cell_type": "markdown",
      "metadata": {
        "id": "view-in-github",
        "colab_type": "text"
      },
      "source": [
        "<a href=\"https://colab.research.google.com/github/Sudol67/MachineLearningEyeVeins/blob/main/DnoOkaV2.ipynb\" target=\"_parent\"><img src=\"https://colab.research.google.com/assets/colab-badge.svg\" alt=\"Open In Colab\"/></a>"
      ]
    },
    {
      "cell_type": "code",
      "source": [
        "import cv2\n",
        "import numpy as np\n",
        "import os\n",
        "from sklearn.model_selection import train_test_split\n",
        "from PIL import Image"
      ],
      "metadata": {
        "id": "4cR-fU1lNGcK"
      },
      "execution_count": 27,
      "outputs": []
    },
    {
      "cell_type": "markdown",
      "source": [
        "Importowane biblioteki:\n",
        "os -\n",
        "cv2 - wczytywanie i edycja zdjęć\n",
        "matplotlib - wyswietlanie"
      ],
      "metadata": {
        "id": "J_N874HiS049"
      }
    },
    {
      "cell_type": "code",
      "source": [
        "folder_path_before = '/content/Before'\n",
        "folder_path_manual = '/content/manual'\n",
        "\n",
        "original_images = {}\n",
        "manual_images = {}\n",
        "\n",
        "for img_file in os.listdir(folder_path_before):\n",
        "    if img_file.endswith(\".jpg\"):\n",
        "        base_name = os.path.splitext(img_file)[0]  # Usuwanie rozszerzenia pliku\n",
        "        image_path = os.path.join(folder_path_before, img_file)\n",
        "        # Wczytanie obrazu w skali szarości\n",
        "        image = cv2.imread(image_path)\n",
        "        if image is not None:\n",
        "            original_images[base_name] = image\n",
        "        else:\n",
        "            print(f\"Nie udało się wczytać obrazu {img_file} z folderu Before.\")\n",
        "\n",
        "# Wczytywanie obrazów .tif z folderu 'manual'\n",
        "for img_file in os.listdir(folder_path_manual):\n",
        "    if img_file.endswith(\".tif\"):\n",
        "        base_name = os.path.splitext(img_file)[0]\n",
        "        image_path = os.path.join(folder_path_manual, img_file)\n",
        "        # Używamy PIL do wczytania, ponieważ cv2 może mieć problemy z niektórymi plikami .tif\n",
        "        pil_image = Image.open(image_path)\n",
        "        image_array = np.array(pil_image)\n",
        "        if image is not None:\n",
        "            manual_images[base_name] = image_array\n",
        "        else:\n",
        "            print(f\"Nie udało się wczytać obrazu {img_file} z folderu manual.\")"
      ],
      "metadata": {
        "id": "GcxfYWXySDl8"
      },
      "execution_count": 28,
      "outputs": []
    },
    {
      "cell_type": "markdown",
      "source": [
        "Tworzenie listy obrazów z folderu"
      ],
      "metadata": {
        "id": "Hue9hLLabCXw"
      }
    },
    {
      "cell_type": "code",
      "source": [
        "processed_images_before = {}\n",
        "\n",
        "for img_file, image in original_images.items():\n",
        "    gray_image = cv2.cvtColor(image, cv2.COLOR_BGR2GRAY)\n",
        "    equalized_image = cv2.equalizeHist(gray_image)\n",
        "    sharpening_kernel = np.array([[-1, -1, -1],\n",
        "                                  [-1,  9, -1],\n",
        "                                  [-1, -1, -1]])\n",
        "    sharpened_image = cv2.filter2D(equalized_image, -1, sharpening_kernel)\n",
        "    processed_images_before[img_file] = sharpened_image"
      ],
      "metadata": {
        "id": "t129zS6mSPmj"
      },
      "execution_count": 29,
      "outputs": []
    },
    {
      "cell_type": "markdown",
      "source": [
        "Wstępna obróbka wczytanych obrazów: zamiana kolorów na skalę szarości, wyrównanie histogramu dla poprawy kontrastu, wyostrzenie"
      ],
      "metadata": {
        "id": "9S0fFGb-bGYS"
      }
    },
    {
      "cell_type": "code",
      "source": [
        "def display_image(image_name):\n",
        "    if image_name in processed_images_before:\n",
        "        plt.imshow(processed_images_before[image_name], cmap='gray')\n",
        "        plt.title(f'Wyświetlany Obraz: {image_name}')\n",
        "        plt.show()\n",
        "    else:\n",
        "        print(\"Nie ma takiego obrazu.\")\n",
        "\n",
        "display_image('01_h.jpg')"
      ],
      "metadata": {
        "id": "KHI85IkISdQl",
        "colab": {
          "base_uri": "https://localhost:8080/"
        },
        "outputId": "1f39adc1-df99-4d9c-dbbc-72f454182a59"
      },
      "execution_count": 30,
      "outputs": [
        {
          "output_type": "stream",
          "name": "stdout",
          "text": [
            "Nie ma takiego obrazu.\n"
          ]
        }
      ]
    },
    {
      "cell_type": "markdown",
      "source": [
        "Tworzenie macierzy cech pikseli czyli tworzenie zbioru uczącego"
      ],
      "metadata": {
        "id": "h_f1DDi1rOEW"
      }
    },
    {
      "cell_type": "code",
      "source": [
        "def calculate_features(image, x, y):\n",
        "    pixel_value = image[x, y]\n",
        "    sobelx = cv2.Sobel(image, cv2.CV_64F, 1, 0, ksize=5)[x, y]\n",
        "    sobely = cv2.Sobel(image, cv2.CV_64F, 0, 1, ksize=5)[x, y] # gradient\n",
        "    features = [pixel_value, sobelx, sobely]\n",
        "    return features\n",
        "\n",
        "X = []  # lista cech pikseli dla wszystkich obrazów\n",
        "labels = []  # naczynie czy nie\n",
        "\n",
        "for img_file, processed_image in processed_images_before.items():\n",
        "    manual_image = manual_images[img_file]\n",
        "\n",
        "    for x in range(processed_image.shape[0]):\n",
        "        for y in range(processed_image.shape[1]):\n",
        "            features = calculate_features(processed_image, x, y)\n",
        "            X.append(features)\n",
        "\n",
        "            is_vein = manual_image[x, y] > 127\n",
        "            labels.append(int(is_vein))\n",
        "\n",
        "X = np.array(X)\n",
        "y = np.array(labels).astype(int)\n",
        "\n",
        "X_train, X_test, y_train, y_test = train_test_split(X, y, test_size=0.2, random_state=42)"
      ],
      "metadata": {
        "id": "vEzkteYKqOmJ",
        "colab": {
          "base_uri": "https://localhost:8080/",
          "height": 332
        },
        "outputId": "8539e681-8d62-4aaa-e295-3ee3de98bcef"
      },
      "execution_count": 31,
      "outputs": [
        {
          "output_type": "error",
          "ename": "KeyboardInterrupt",
          "evalue": "",
          "traceback": [
            "\u001b[0;31m---------------------------------------------------------------------------\u001b[0m",
            "\u001b[0;31mKeyboardInterrupt\u001b[0m                         Traceback (most recent call last)",
            "\u001b[0;32m<ipython-input-31-6d7b417c3fb9>\u001b[0m in \u001b[0;36m<cell line: 11>\u001b[0;34m()\u001b[0m\n\u001b[1;32m     14\u001b[0m     \u001b[0;32mfor\u001b[0m \u001b[0mx\u001b[0m \u001b[0;32min\u001b[0m \u001b[0mrange\u001b[0m\u001b[0;34m(\u001b[0m\u001b[0mprocessed_image\u001b[0m\u001b[0;34m.\u001b[0m\u001b[0mshape\u001b[0m\u001b[0;34m[\u001b[0m\u001b[0;36m0\u001b[0m\u001b[0;34m]\u001b[0m\u001b[0;34m)\u001b[0m\u001b[0;34m:\u001b[0m\u001b[0;34m\u001b[0m\u001b[0;34m\u001b[0m\u001b[0m\n\u001b[1;32m     15\u001b[0m         \u001b[0;32mfor\u001b[0m \u001b[0my\u001b[0m \u001b[0;32min\u001b[0m \u001b[0mrange\u001b[0m\u001b[0;34m(\u001b[0m\u001b[0mprocessed_image\u001b[0m\u001b[0;34m.\u001b[0m\u001b[0mshape\u001b[0m\u001b[0;34m[\u001b[0m\u001b[0;36m1\u001b[0m\u001b[0;34m]\u001b[0m\u001b[0;34m)\u001b[0m\u001b[0;34m:\u001b[0m\u001b[0;34m\u001b[0m\u001b[0;34m\u001b[0m\u001b[0m\n\u001b[0;32m---> 16\u001b[0;31m             \u001b[0mfeatures\u001b[0m \u001b[0;34m=\u001b[0m \u001b[0mcalculate_features\u001b[0m\u001b[0;34m(\u001b[0m\u001b[0mprocessed_image\u001b[0m\u001b[0;34m,\u001b[0m \u001b[0mx\u001b[0m\u001b[0;34m,\u001b[0m \u001b[0my\u001b[0m\u001b[0;34m)\u001b[0m\u001b[0;34m\u001b[0m\u001b[0;34m\u001b[0m\u001b[0m\n\u001b[0m\u001b[1;32m     17\u001b[0m             \u001b[0mX\u001b[0m\u001b[0;34m.\u001b[0m\u001b[0mappend\u001b[0m\u001b[0;34m(\u001b[0m\u001b[0mfeatures\u001b[0m\u001b[0;34m)\u001b[0m\u001b[0;34m\u001b[0m\u001b[0;34m\u001b[0m\u001b[0m\n\u001b[1;32m     18\u001b[0m \u001b[0;34m\u001b[0m\u001b[0m\n",
            "\u001b[0;32m<ipython-input-31-6d7b417c3fb9>\u001b[0m in \u001b[0;36mcalculate_features\u001b[0;34m(image, x, y)\u001b[0m\n\u001b[1;32m      1\u001b[0m \u001b[0;32mdef\u001b[0m \u001b[0mcalculate_features\u001b[0m\u001b[0;34m(\u001b[0m\u001b[0mimage\u001b[0m\u001b[0;34m,\u001b[0m \u001b[0mx\u001b[0m\u001b[0;34m,\u001b[0m \u001b[0my\u001b[0m\u001b[0;34m)\u001b[0m\u001b[0;34m:\u001b[0m\u001b[0;34m\u001b[0m\u001b[0;34m\u001b[0m\u001b[0m\n\u001b[1;32m      2\u001b[0m     \u001b[0mpixel_value\u001b[0m \u001b[0;34m=\u001b[0m \u001b[0mimage\u001b[0m\u001b[0;34m[\u001b[0m\u001b[0mx\u001b[0m\u001b[0;34m,\u001b[0m \u001b[0my\u001b[0m\u001b[0;34m]\u001b[0m\u001b[0;34m\u001b[0m\u001b[0;34m\u001b[0m\u001b[0m\n\u001b[0;32m----> 3\u001b[0;31m     \u001b[0msobelx\u001b[0m \u001b[0;34m=\u001b[0m \u001b[0mcv2\u001b[0m\u001b[0;34m.\u001b[0m\u001b[0mSobel\u001b[0m\u001b[0;34m(\u001b[0m\u001b[0mimage\u001b[0m\u001b[0;34m,\u001b[0m \u001b[0mcv2\u001b[0m\u001b[0;34m.\u001b[0m\u001b[0mCV_64F\u001b[0m\u001b[0;34m,\u001b[0m \u001b[0;36m1\u001b[0m\u001b[0;34m,\u001b[0m \u001b[0;36m0\u001b[0m\u001b[0;34m,\u001b[0m \u001b[0mksize\u001b[0m\u001b[0;34m=\u001b[0m\u001b[0;36m5\u001b[0m\u001b[0;34m)\u001b[0m\u001b[0;34m[\u001b[0m\u001b[0mx\u001b[0m\u001b[0;34m,\u001b[0m \u001b[0my\u001b[0m\u001b[0;34m]\u001b[0m\u001b[0;34m\u001b[0m\u001b[0;34m\u001b[0m\u001b[0m\n\u001b[0m\u001b[1;32m      4\u001b[0m     \u001b[0msobely\u001b[0m \u001b[0;34m=\u001b[0m \u001b[0mcv2\u001b[0m\u001b[0;34m.\u001b[0m\u001b[0mSobel\u001b[0m\u001b[0;34m(\u001b[0m\u001b[0mimage\u001b[0m\u001b[0;34m,\u001b[0m \u001b[0mcv2\u001b[0m\u001b[0;34m.\u001b[0m\u001b[0mCV_64F\u001b[0m\u001b[0;34m,\u001b[0m \u001b[0;36m0\u001b[0m\u001b[0;34m,\u001b[0m \u001b[0;36m1\u001b[0m\u001b[0;34m,\u001b[0m \u001b[0mksize\u001b[0m\u001b[0;34m=\u001b[0m\u001b[0;36m5\u001b[0m\u001b[0;34m)\u001b[0m\u001b[0;34m[\u001b[0m\u001b[0mx\u001b[0m\u001b[0;34m,\u001b[0m \u001b[0my\u001b[0m\u001b[0;34m]\u001b[0m\u001b[0;34m\u001b[0m\u001b[0;34m\u001b[0m\u001b[0m\n\u001b[1;32m      5\u001b[0m     \u001b[0mfeatures\u001b[0m \u001b[0;34m=\u001b[0m \u001b[0;34m[\u001b[0m\u001b[0mpixel_value\u001b[0m\u001b[0;34m,\u001b[0m \u001b[0msobelx\u001b[0m\u001b[0;34m,\u001b[0m \u001b[0msobely\u001b[0m\u001b[0;34m]\u001b[0m\u001b[0;34m\u001b[0m\u001b[0;34m\u001b[0m\u001b[0m\n",
            "\u001b[0;31mKeyboardInterrupt\u001b[0m: "
          ]
        }
      ]
    }
  ]
}